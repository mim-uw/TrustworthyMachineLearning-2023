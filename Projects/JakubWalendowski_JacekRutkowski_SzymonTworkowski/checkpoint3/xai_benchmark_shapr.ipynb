{
  "cells": [
    {
      "cell_type": "code",
      "source": [
        "!git clone https://github.com/AI4LIFE-GROUP/OpenXAI.git\n",
        "!cd OpenXAI/ && pip install -e ."
      ],
      "metadata": {
        "id": "BhN2Hc7hcurT"
      },
      "execution_count": null,
      "outputs": []
    },
    {
      "cell_type": "code",
      "source": [
        "# !pip install git+https://github.com/AI4LIFE-GROUP/OpenXAI"
      ],
      "metadata": {
        "id": "Leg7gVxQa3vG"
      },
      "execution_count": null,
      "outputs": []
    },
    {
      "cell_type": "code",
      "execution_count": null,
      "metadata": {
        "id": "b7pPquatZgZ2"
      },
      "outputs": [],
      "source": [
        "# Utils\n",
        "import torch\n",
        "import numpy as np\n",
        "import pickle\n",
        "\n",
        "# ML models\n",
        "from openxai.LoadModel import LoadModel\n",
        "\n",
        "# Data loaders\n",
        "from openxai.dataloader import return_loaders\n",
        "\n",
        "# Explanation models\n",
        "from openxai.Explainer import Explainer\n",
        "\n",
        "# Evaluation methods\n",
        "from openxai.evaluator import Evaluator\n",
        "\n",
        "# Perturbation methods required for the computation of the relative stability metrics\n",
        "from openxai.explainers.catalog.perturbation_methods import NormalPerturbation\n",
        "from openxai.explainers.catalog.perturbation_methods import NewDiscrete_NormalPerturbation"
      ]
    },
    {
      "cell_type": "code",
      "source": [
        "# COMPAS. The dataset has criminal records and demographics features for 18,876 defendants who\n",
        "# got released on bail at the U.S state courts during 1990-2009. The task is to classify defendants into\n",
        "# bail (i.e., unlikely to commit a violent crime if released) vs. no bail (i.e., likely to commit a violent\n",
        "# crime) [36]."
      ],
      "metadata": {
        "id": "2TBTYrMSxvO0"
      },
      "execution_count": null,
      "outputs": []
    },
    {
      "cell_type": "code",
      "execution_count": null,
      "metadata": {
        "id": "Kn6am_9zZgZ5"
      },
      "outputs": [],
      "source": [
        "# Choose the model and the data set you wish to generate explanations for\n",
        "data_loader_batch_size = 32\n",
        "# data_name = 'german' # must be one of ['heloc', 'adult', 'german', 'compas']\n",
        "data_name = 'compas' # must be one of ['heloc', 'adult', 'german', 'compas']\n",
        "# data_name = 'heloc' # must be one of ['heloc', 'adult', 'german', 'compas']\n",
        "# data_name = 'adult' # must be one of ['heloc', 'adult', 'german', 'compas']\n",
        "# data_name = 'synthetic' # must be one of ['heloc', 'adult', 'german', 'compas']\n",
        "model_name = 'lr'    # must be one of ['lr', 'ann']"
      ]
    },
    {
      "cell_type": "markdown",
      "metadata": {
        "id": "ZBySb5rxZgZ7"
      },
      "source": [
        "### (1) Data Loaders"
      ]
    },
    {
      "cell_type": "code",
      "execution_count": null,
      "metadata": {
        "id": "FLsqRXn-ZgZ8"
      },
      "outputs": [],
      "source": [
        "# Get training and test loaders\n",
        "loader_train, loader_test = return_loaders(data_name=data_name,\n",
        "                                           download=True,\n",
        "                                           batch_size=data_loader_batch_size)\n",
        "data_iter = iter(loader_test)\n",
        "inputs, labels = data_iter.next()\n",
        "labels = labels.type(torch.int64)"
      ]
    },
    {
      "cell_type": "code",
      "execution_count": null,
      "metadata": {
        "id": "yZgoWb-0ZgZ8"
      },
      "outputs": [],
      "source": [
        "# get full training data set\n",
        "data_all = torch.FloatTensor(loader_train.dataset.data)"
      ]
    },
    {
      "cell_type": "code",
      "source": [
        "data_all.shape"
      ],
      "metadata": {
        "colab": {
          "base_uri": "https://localhost:8080/"
        },
        "id": "mhTYfgUudMdT",
        "outputId": "83ac7a51-eeab-489e-bc60-b0150cbba97a"
      },
      "execution_count": null,
      "outputs": [
        {
          "output_type": "execute_result",
          "data": {
            "text/plain": [
              "torch.Size([4937, 7])"
            ]
          },
          "metadata": {},
          "execution_count": 173
        }
      ]
    },
    {
      "cell_type": "markdown",
      "metadata": {
        "id": "2tDIo9BhZgZ9"
      },
      "source": [
        "### (2) Load a pretrained ML model"
      ]
    },
    {
      "cell_type": "code",
      "execution_count": null,
      "metadata": {
        "id": "LPaA8B-qZgZ9"
      },
      "outputs": [],
      "source": [
        "# Load pretrained ml model\n",
        "model = LoadModel(data_name=data_name,\n",
        "                  ml_model=model_name,\n",
        "                  pretrained=True)"
      ]
    },
    {
      "cell_type": "markdown",
      "metadata": {
        "id": "2YW4t6X6ZgZ-"
      },
      "source": [
        "### (3) Choose an explanation method"
      ]
    },
    {
      "cell_type": "markdown",
      "metadata": {
        "id": "vWe_gRObZgaB"
      },
      "source": [
        "### (4) Choose an evaluation metric"
      ]
    },
    {
      "cell_type": "code",
      "execution_count": null,
      "metadata": {
        "id": "YX8GeqmCZgaB"
      },
      "outputs": [],
      "source": [
        "def generate_mask(explanation, top_k):\n",
        "    mask_indices = torch.topk(explanation, top_k).indices\n",
        "    mask = torch.zeros(explanation.shape) > 10\n",
        "    for i in mask_indices:\n",
        "        mask[i] = True\n",
        "    return mask"
      ]
    },
    {
      "cell_type": "code",
      "execution_count": null,
      "metadata": {
        "id": "GygtpVjiZgaC"
      },
      "outputs": [],
      "source": [
        "# Perturbation class parameters\n",
        "perturbation_mean = 0.0\n",
        "perturbation_std = 0.10\n",
        "perturbation_flip_percentage = 0.03\n",
        "if data_name == 'compas':\n",
        "    feature_types = ['c', 'd', 'c', 'c', 'd', 'd', 'd']\n",
        "# Adult feature types\n",
        "elif data_name == 'adult':\n",
        "    feature_types = ['c'] * 6 + ['d'] * 7\n",
        "\n",
        "# Gaussian feature types\n",
        "elif data_name == 'synthetic':\n",
        "    feature_types = ['c'] * 20\n",
        "# Heloc feature types\n",
        "elif data_name == 'heloc':\n",
        "    feature_types = ['c'] * 23\n",
        "elif data_name == 'german':\n",
        "    feature_types = pickle.load(open('./data/German_Credit_Data/german-feature-metadata.p', 'rb'))"
      ]
    },
    {
      "cell_type": "code",
      "execution_count": null,
      "metadata": {
        "id": "ATU0qGXcZgaC"
      },
      "outputs": [],
      "source": [
        "# Perturbation methods\n",
        "if data_name == 'german':\n",
        "    # use special perturbation class\n",
        "    perturbation = NewDiscrete_NormalPerturbation(\"tabular\",\n",
        "                                                  mean=perturbation_mean,\n",
        "                                                  std_dev=perturbation_std,\n",
        "                                                  flip_percentage=perturbation_flip_percentage)\n",
        "\n",
        "else:\n",
        "    perturbation = NormalPerturbation(\"tabular\",\n",
        "                                      mean=perturbation_mean,\n",
        "                                      std_dev=perturbation_std,\n",
        "                                      flip_percentage=perturbation_flip_percentage)"
      ]
    },
    {
      "cell_type": "code",
      "execution_count": null,
      "metadata": {
        "id": "0AcwyF2bZgaC"
      },
      "outputs": [],
      "source": [
        "def get_evaluator(model, inputs, labels, explanation, explainer, index=0):\n",
        "  input_dict = dict()\n",
        "  \n",
        "  # inputs and models\n",
        "  input_dict['x'] = inputs[index].reshape(-1)\n",
        "  input_dict['input_data'] = inputs\n",
        "  input_dict['explainer'] = explainer\n",
        "  input_dict['explanation_x'] = explanation[index,:].flatten()\n",
        "  input_dict['model'] = model\n",
        "  \n",
        "  # perturbation method used for the stability metric\n",
        "  input_dict['perturbation'] = perturbation\n",
        "  input_dict['perturb_method'] = perturbation\n",
        "  input_dict['perturb_max_distance'] = 0.4\n",
        "  input_dict['feature_metadata'] = feature_types\n",
        "  input_dict['p_norm'] = 2\n",
        "  input_dict['eval_metric'] = None\n",
        "  \n",
        "  # true label, predicted label, and masks\n",
        "  input_dict['top_k'] = 3\n",
        "  input_dict['y'] = labels[index].detach().item()\n",
        "  input_dict['y_pred'] = torch.max(model(inputs[index].unsqueeze(0).float()), 1).indices.detach().item()\n",
        "  input_dict['mask'] = generate_mask(input_dict['explanation_x'].reshape(-1), input_dict['top_k'])\n",
        "  \n",
        "  # required for the representation stability measure\n",
        "  input_dict['L_map'] = model\n",
        "  \n",
        "  evaluator = Evaluator(input_dict,\n",
        "                        inputs=inputs,\n",
        "                        labels=labels, \n",
        "                        model=model, \n",
        "                        explainer=explainer)\n",
        "  return evaluator"
      ]
    },
    {
      "cell_type": "code",
      "source": [
        "from collections import defaultdict\n",
        "\n",
        "def evaluate_on_inputs_batch(explanation, explainer, model, inputs, labels):\n",
        "  metrics_dict = defaultdict(list)\n",
        "  \n",
        "  for index in range(inputs.shape[0]):\n",
        "      evaluator = get_evaluator(model, inputs, labels, explanation, explainer, index=index)\n",
        "  \n",
        "      metrics_list = []\n",
        "      # evaluate rank correlation\n",
        "      metrics_list.append(('RC:', evaluator.evaluate(metric='RC')))\n",
        "  \n",
        "      # evaluate feature agreement\n",
        "      metrics_list.append(('FA:', evaluator.evaluate(metric='FA')))\n",
        "  \n",
        "      # evaluate rank agreement\n",
        "      metrics_list.append(('RA:', evaluator.evaluate(metric='RA')))\n",
        "  \n",
        "      # evaluate sign agreement\n",
        "      metrics_list.append(('SA:', evaluator.evaluate(metric='SA')))\n",
        "  \n",
        "      # evaluate signed rankcorrelation\n",
        "      metrics_list.append(('SRA:', evaluator.evaluate(metric='SRA')))\n",
        "  \n",
        "      # evaluate prediction gap on umportant features\n",
        "      metrics_list.append(('PGU:', evaluator.evaluate(metric='PGU')))\n",
        "      \n",
        "      # evaluate prediction gap on important features\n",
        "      metrics_list.append(('PGI:', evaluator.evaluate(metric='PGI')))\n",
        "  \n",
        "      for metric_name, metric_val in metrics_list:\n",
        "        # ugly fix for stupid metrics...\n",
        "        if isinstance(metric_val, tuple):\n",
        "          metric_val = metric_val[1]\n",
        "        metrics_dict[metric_name].append(metric_val)\n",
        "  \n",
        "  # print(metrics_dict)\n",
        "  \n",
        "  return metrics_dict"
      ],
      "metadata": {
        "id": "vUPU9g8g8lgD"
      },
      "execution_count": null,
      "outputs": []
    },
    {
      "cell_type": "code",
      "source": [
        "import scipy.special\n",
        "import numpy as np\n",
        "import itertools\n",
        "from tqdm import tqdm\n",
        "\n",
        "\n",
        "def powerset(iterable):\n",
        "    s = list(iterable)\n",
        "    return itertools.chain.from_iterable(\n",
        "        itertools.combinations(s, r) for r in range(len(s) + 1)\n",
        "    )\n",
        "\n",
        "\n",
        "def shapley_kernel(M, s):\n",
        "    if s == 0 or s == M:\n",
        "        return 10000  # approximation of inf with some large weight\n",
        "    return (M - 1) / (scipy.special.binom(M, s) * s * (M - s))\n",
        "\n",
        "\n",
        "def get_weights(X_data, s, x, sigma=0.4):\n",
        "    sample_cov_s = np.linalg.pinv(np.cov(X_data[:, s], rowvar=False))\n",
        "    D_s = np.einsum(\n",
        "        \"ji,ji->j\", np.dot(x[s] - X_data[:, s], sample_cov_s), x[s] - X_data[:, s]\n",
        "    )\n",
        "    D_s = np.sqrt(D_s / len(s))\n",
        "    w_s = np.exp(-np.square(D_s) / (2 * (sigma**2)))\n",
        "    # w_s shape: number of examples in ds\n",
        "    return w_s\n",
        "\n",
        "\n",
        "def get_weighted_mean(w_s, s, f, x, reference, top_k_weights):\n",
        "    # sort - pretty slow\n",
        "    w_s_sort_idx = np.argsort(w_s)[::-1]\n",
        "    wp_sum, w_sum = 0.0, 0.0\n",
        "    ws_to_iterate = w_s_sort_idx\n",
        "    if top_k_weights:\n",
        "      ws_to_iterate = ws_to_iterate[:top_k_weights]\n",
        "    for idx in ws_to_iterate:\n",
        "        x_eval = reference[idx].copy()\n",
        "        x_eval[s] = x[s]\n",
        "        wp_sum += w_s[idx] * f(x_eval.reshape(1, -1))\n",
        "        w_sum += w_s[idx]\n",
        "    return wp_sum / w_sum\n",
        "\n",
        "\n",
        "def kernel_shapr(f, x, reference, M, sigma, top_k_weights=None):\n",
        "    X = np.zeros((2**M, M + 1))\n",
        "    X[:, -1] = 1\n",
        "    weights = np.zeros(2**M)\n",
        "    y = np.zeros(2**M)\n",
        "\n",
        "    for i, s in enumerate(powerset(range(M))):\n",
        "        s = list(s)\n",
        "        w_s = np.ones(len(reference))\n",
        "        if len(s) > 1:\n",
        "            w_s = get_weights(reference, s, x, sigma)\n",
        "        X[i, s] = 1\n",
        "        weights[i] = shapley_kernel(M, len(s))\n",
        "        y[i] = get_weighted_mean(w_s, s, f, x, reference, top_k_weights=top_k_weights)\n",
        "\n",
        "    tmp = np.linalg.inv(np.dot(np.dot(X.T, np.diag(weights)), X))\n",
        "    return np.dot(tmp, np.dot(np.dot(X.T, np.diag(weights)), y))\n",
        "\n",
        "def brute_kernel_shap(f, x, reference, M):\n",
        "    # f - model\n",
        "    # x - input vector\n",
        "    # reference - dummy values for subsets that we don't choose\n",
        "    # M - n. features\n",
        "    X = np.zeros((2**M, M + 1))\n",
        "    X[:, -1] = 1\n",
        "    weights = np.zeros(2**M)\n",
        "    V = np.zeros((2**M, M))\n",
        "    for i in range(2**M):\n",
        "        V[i, :] = reference\n",
        "\n",
        "    for i, s in enumerate(powerset(range(M))):\n",
        "        s = list(s)\n",
        "        V[i, s] = x[s]\n",
        "        X[i, s] = 1\n",
        "        weights[i] = shapley_kernel(M, len(s))\n",
        "    y = f(V)\n",
        "    tmp = np.linalg.inv(np.dot(np.dot(X.T, np.diag(weights)), X))\n",
        "    return np.dot(tmp, np.dot(np.dot(X.T, np.diag(weights)), y))\n",
        "\n",
        "\n",
        "class ShapR:\n",
        "    def __init__(self, f, X, **kwargs):\n",
        "        self.f = f\n",
        "        self.X = X\n",
        "        self.M = X.shape[1]\n",
        "        self.sigma = 0.4 if \"sigma\" not in kwargs else kwargs[\"sigma\"]\n",
        "        self.top_k_weights = None if \"top_k_weights\" not in kwargs else kwargs[\"top_k_weights\"]\n",
        "\n",
        "    def explain(self, x):\n",
        "        phi = np.zeros((x.shape[0], self.M + 1))\n",
        "        for idx, x in tqdm(enumerate(x)):\n",
        "            phi[idx] = kernel_shapr(self.f, x, self.X, self.M, self.sigma, self.top_k_weights)\n",
        "        self.expected_values = phi[:, -1]\n",
        "        shap_values = phi[:, :-1]\n",
        "        return shap_values\n"
      ],
      "metadata": {
        "id": "Nv5o0uKj55dW"
      },
      "execution_count": null,
      "outputs": []
    },
    {
      "cell_type": "code",
      "source": [
        "from openxai.explainers.api import Explainer"
      ],
      "metadata": {
        "id": "cWSA9NWqJvaW"
      },
      "execution_count": null,
      "outputs": []
    },
    {
      "cell_type": "code",
      "source": [
        "import xgboost\n",
        "import shap\n",
        "import torch\n",
        "import numpy as np\n",
        "from torch import nn\n",
        "from torch.nn import functional as F\n",
        "\n",
        "class SHAPRExplainer(Explainer):\n",
        "    \n",
        "    '''\n",
        "    param: model: model object\n",
        "    param: data: pandas data frame or numpy array\n",
        "    param: link: str, 'identity' or 'logit'\n",
        "    param: feature_perturbation: str, 'tree_path_dependent' or 'interventional'\n",
        "    '''\n",
        "    \n",
        "    def __init__(self, model, data: torch.FloatTensor, domain: str = 'non_deep', link: str = 'identity',\n",
        "                 function_class: str = 'non_tree', feature_perturbation: str = 'interventional',\n",
        "                 top_k_weights=None):\n",
        "        super().__init__(model)\n",
        "        self.data = data.numpy()\n",
        "        self.domain = domain\n",
        "\n",
        "        f = lambda x: self.model(torch.FloatTensor(x))[:, 1]\n",
        "        self.shapr = ShapR(f, data.numpy(), top_k_weights=top_k_weights)\n",
        "\n",
        "\n",
        "    def get_explanation(self, data_x: torch.FloatTensor, label = None) -> torch.FloatTensor:\n",
        "        '''\n",
        "        Returns SHAP values as the explaination of the decision made for the input data (data_x)\n",
        "        :param data_x: data samples to explain decision for\n",
        "        :return: SHAP values [dim (shap_vals) == dim (data_x)]\n",
        "        '''\n",
        "        \n",
        "        data_x = data_x.numpy()\n",
        "        \n",
        "        shap_vals = self.shapr.explain(data_x)\n",
        "        return torch.FloatTensor(shap_vals)\n"
      ],
      "metadata": {
        "id": "MeM2BGtB4oFX"
      },
      "execution_count": null,
      "outputs": []
    },
    {
      "cell_type": "code",
      "source": [
        "import xgboost\n",
        "import shap\n",
        "import torch\n",
        "import numpy as np\n",
        "from torch import nn\n",
        "from torch.nn import functional as F\n",
        "from shap import KernelExplainer\n",
        "from shap import DeepExplainer\n",
        "\n",
        "class SHAPExplainer(Explainer):\n",
        "    '''\n",
        "    param: model: model object\n",
        "    param: data: pandas data frame or numpy array\n",
        "    param: link: str, 'identity' or 'logit'\n",
        "    param: feature_perturbation: str, 'tree_path_dependent' or 'interventional'\n",
        "    '''\n",
        "    \n",
        "    def __init__(self, model, data: torch.FloatTensor, domain: str = 'non_deep', link: str = 'identity',\n",
        "                 function_class: str = 'non_tree', feature_perturbation: str = 'interventional'):\n",
        "        super().__init__(model)\n",
        "        self.data = data.numpy()\n",
        "        self.domain = domain\n",
        "        f = lambda x: model(torch.FloatTensor(x))[:, 1].detach().numpy()\n",
        "        self.explainer = shap.KernelExplainer(f, self.data, link=link)\n",
        "\n",
        "    def get_explanation(self, data_x: torch.FloatTensor, label = None) -> torch.FloatTensor:\n",
        "        '''\n",
        "        Returns SHAP values as the explaination of the decision made for the input data (data_x)\n",
        "        :param data_x: data samples to explain decision for\n",
        "        :return: SHAP values [dim (shap_vals) == dim (data_x)]\n",
        "        '''\n",
        "        \n",
        "        data_x = data_x.numpy()\n",
        "        \n",
        "        shap_vals = self.explainer.shap_values(data_x)\n",
        "        return torch.FloatTensor(shap_vals)\n"
      ],
      "metadata": {
        "id": "QWYn-etTBda4"
      },
      "execution_count": null,
      "outputs": []
    },
    {
      "cell_type": "code",
      "source": [
        "from openxai.explainers import RandomBaseline\n",
        "from functools import partial\n",
        "\n",
        "N_TRAINING_EXAMPLES = 128\n",
        "\n",
        "explainer_training_data = data_all[:N_TRAINING_EXAMPLES]\n",
        "validation_inputs = inputs\n",
        "validation_labels = labels\n",
        "\n",
        "explainers = {\n",
        "    'random': RandomBaseline,\n",
        "    'shap': SHAPExplainer,\n",
        "    'shapr': SHAPRExplainer,\n",
        "    'shapr_top5': partial(SHAPRExplainer, top_k_weights=5),\n",
        "    'shapr_top10': partial(SHAPRExplainer, top_k_weights=10),\n",
        "}"
      ],
      "metadata": {
        "id": "18NVyBgH-1DI"
      },
      "execution_count": null,
      "outputs": []
    },
    {
      "cell_type": "code",
      "source": [
        "data_iter = iter(loader_test)\n",
        "\n",
        "N_EVAL_BATCHES = 5\n",
        "\n",
        "metrics_per_explainer = defaultdict(list)\n",
        "for _, (validation_inputs, validation_labels) in zip(range(N_EVAL_BATCHES), data_iter):\n",
        "  \n",
        "  for explainer_name, explainer in explainers.items():\n",
        "    print(f'Evaluating explainer: {explainer_name}')\n",
        "  \n",
        "    if explainer_name != 'random':\n",
        "      explainer = explainer(model=model, data=explainer_training_data)\n",
        "    else:\n",
        "      explainer = explainer(model=model)\n",
        "    explanation = explainer.get_explanation(validation_inputs.float(), label=validation_labels)\n",
        "  \n",
        "    metrics = evaluate_on_inputs_batch(explanation, explainer, model, validation_inputs, validation_labels)\n",
        "    # print(metrics)\n",
        "    metrics_per_explainer[explainer_name].append(metrics)\n",
        "\n",
        "  \n",
        "for explainer_name in explainers.keys():\n",
        "  cumulative_metrics = defaultdict(list)\n",
        "  for metrics_batch in metrics_per_explainer[explainer_name]:\n",
        "    for metric_name, metric_vals in metrics_batch.items():\n",
        "      cumulative_metrics[metric_name] += metric_vals\n",
        "  res = {k: np.mean(v) for k,v in cumulative_metrics.items()}\n",
        "  print(f'{explainer_name} Results: ', res)"
      ],
      "metadata": {
        "colab": {
          "base_uri": "https://localhost:8080/",
          "height": 1000,
          "referenced_widgets": [
            "4313d43ad81b43b4a177505745231193",
            "8111763aebd847d586fa032df34a9f9a",
            "b54e520636484eeba0a1f1e05e61a724",
            "895c9085f53345eb9aecf5e82123f37a",
            "61db6e87bd774dc0bfb542423f5a8bc3",
            "d0d290ff101a45e99365776496591b0d",
            "c85189267cc6420183586f33ebfe7a49",
            "ad8d4fcabb3a4689ab5790aa474dc6b0",
            "3a9077c455904f3f94b67663c50a4259",
            "188b77bbf56947db9a56ca85b5f23db0",
            "f1cc0637581c48699c733bba9f601c91",
            "6e11812105834b0ab0d94a7ed998d8b2",
            "b49b42d626694b8a9c25b08aa2c08c68",
            "a8ad701e93e7497085ad793c36dc2aad",
            "e7652d85c06d4ea1a27da2a8fe3e6c1b",
            "b0aa4b6606ca4219ba7b78d77a7fcc59",
            "34945301ef78437fbaf08afdd3460590",
            "574e33ad8c8f49d39459e785b2ca2249",
            "32038b58dccb49d4a413b27b7f230676",
            "5e2e40b88c45476186f0ea02b806f5bc",
            "3c9d60df768140bebe68291b27c1f390",
            "03cea1651b29469088b3eff5bf7030f0",
            "22fa7a0847e844aa99208e82e0c21a6b",
            "4c2f23c0e75c46c2942a8640d0bc9a7b",
            "dbb1294be836404ab8073b7ad590a0b8",
            "543c3ed0d9244ec8b3ad5a6a163b29c0",
            "33011061dde64774aa85c33a608e2ce5",
            "6f78066828064e39996ec2c4d64ed38a",
            "037ea2cde2aa4812ba2eaa793c091908",
            "46e06842d1004eb49918806446da029a",
            "41b71eeece1241799cd8c5375fb48776",
            "08467a78192a49a29e4be1d8ef95311e",
            "0bc5f94658e047c3809155a0cb4a2e51",
            "aa2b25c35c8d40d1bf9378782c8be0c4",
            "6c7774d52d364c958be6dff7a5e24efe",
            "4d728bba3f094b1b851f1b8883cf8f47",
            "ff10272c96a246538d6485b7fe3f983a",
            "ce728b84f4aa4c7e8bf65a0d3aaac467",
            "cb7024cc187344a1968ae7d6b2074869",
            "9303c769784d41d99eb9f61edca00e36",
            "757448f73bff4cdc92203dfb377ad2be",
            "e12b8a0be76441c1bbf715cbb11f678d",
            "d8badba4f4be4b5cb5a2b717208db300",
            "288e56a2b9b64e1eabdb7bbf8ff226be",
            "94cbc0e6083b4887b07f13e097a02c74",
            "1146f271e69f4ae5a1908f28a608e8fe",
            "1351d1b1478443ed8c36460ea30e4773",
            "673bef080e1e48cdbcfae40accf0a512",
            "21b75206e867415ea573a87189702c62",
            "7d4de744990f4b0f91b3e5687cd32e56",
            "dad4e8312c634dee91bd1e99f5360e05",
            "bf8cad6072114596850e5b21797b9da8",
            "2275a8ae25bb419f94260fd7cc3d4bda",
            "c58fc73c6413482695c0701f2c4654c5",
            "bd8a59d62a3d4831adca40d1ac5e5c87"
          ]
        },
        "id": "sk9iSvx4_fef",
        "outputId": "5a653dcf-68c1-4516-c561-495d6daec001"
      },
      "execution_count": null,
      "outputs": [
        {
          "output_type": "stream",
          "name": "stdout",
          "text": [
            "Evaluating explainer: random\n"
          ]
        },
        {
          "output_type": "stream",
          "name": "stderr",
          "text": [
            "WARNING:shap:Using 128 background data samples could cause slower run times. Consider using shap.sample(data, K) or shap.kmeans(data, K) to summarize the background as K samples.\n"
          ]
        },
        {
          "output_type": "stream",
          "name": "stdout",
          "text": [
            "Evaluating explainer: shap\n"
          ]
        },
        {
          "output_type": "display_data",
          "data": {
            "text/plain": [
              "  0%|          | 0/32 [00:00<?, ?it/s]"
            ],
            "application/vnd.jupyter.widget-view+json": {
              "version_major": 2,
              "version_minor": 0,
              "model_id": "4313d43ad81b43b4a177505745231193"
            }
          },
          "metadata": {}
        },
        {
          "output_type": "stream",
          "name": "stdout",
          "text": [
            "Evaluating explainer: shapr\n"
          ]
        },
        {
          "output_type": "stream",
          "name": "stderr",
          "text": [
            "32it [00:44,  1.38s/it]\n"
          ]
        },
        {
          "output_type": "stream",
          "name": "stdout",
          "text": [
            "Evaluating explainer: shapr_top5\n"
          ]
        },
        {
          "output_type": "stream",
          "name": "stderr",
          "text": [
            "32it [00:04,  7.03it/s]\n"
          ]
        },
        {
          "output_type": "stream",
          "name": "stdout",
          "text": [
            "Evaluating explainer: shapr_top10\n"
          ]
        },
        {
          "output_type": "stream",
          "name": "stderr",
          "text": [
            "32it [00:06,  4.69it/s]\n"
          ]
        },
        {
          "output_type": "stream",
          "name": "stdout",
          "text": [
            "Evaluating explainer: random\n"
          ]
        },
        {
          "output_type": "stream",
          "name": "stderr",
          "text": [
            "WARNING:shap:Using 128 background data samples could cause slower run times. Consider using shap.sample(data, K) or shap.kmeans(data, K) to summarize the background as K samples.\n"
          ]
        },
        {
          "output_type": "stream",
          "name": "stdout",
          "text": [
            "Evaluating explainer: shap\n"
          ]
        },
        {
          "output_type": "display_data",
          "data": {
            "text/plain": [
              "  0%|          | 0/32 [00:00<?, ?it/s]"
            ],
            "application/vnd.jupyter.widget-view+json": {
              "version_major": 2,
              "version_minor": 0,
              "model_id": "6e11812105834b0ab0d94a7ed998d8b2"
            }
          },
          "metadata": {}
        },
        {
          "output_type": "stream",
          "name": "stdout",
          "text": [
            "Evaluating explainer: shapr\n"
          ]
        },
        {
          "output_type": "stream",
          "name": "stderr",
          "text": [
            "32it [00:43,  1.35s/it]\n"
          ]
        },
        {
          "output_type": "stream",
          "name": "stdout",
          "text": [
            "Evaluating explainer: shapr_top5\n"
          ]
        },
        {
          "output_type": "stream",
          "name": "stderr",
          "text": [
            "32it [00:04,  7.00it/s]\n"
          ]
        },
        {
          "output_type": "stream",
          "name": "stdout",
          "text": [
            "Evaluating explainer: shapr_top10\n"
          ]
        },
        {
          "output_type": "stream",
          "name": "stderr",
          "text": [
            "32it [00:06,  5.23it/s]\n"
          ]
        },
        {
          "output_type": "stream",
          "name": "stdout",
          "text": [
            "Evaluating explainer: random\n"
          ]
        },
        {
          "output_type": "stream",
          "name": "stderr",
          "text": [
            "WARNING:shap:Using 128 background data samples could cause slower run times. Consider using shap.sample(data, K) or shap.kmeans(data, K) to summarize the background as K samples.\n"
          ]
        },
        {
          "output_type": "stream",
          "name": "stdout",
          "text": [
            "Evaluating explainer: shap\n"
          ]
        },
        {
          "output_type": "display_data",
          "data": {
            "text/plain": [
              "  0%|          | 0/32 [00:00<?, ?it/s]"
            ],
            "application/vnd.jupyter.widget-view+json": {
              "version_major": 2,
              "version_minor": 0,
              "model_id": "22fa7a0847e844aa99208e82e0c21a6b"
            }
          },
          "metadata": {}
        },
        {
          "output_type": "stream",
          "name": "stdout",
          "text": [
            "Evaluating explainer: shapr\n"
          ]
        },
        {
          "output_type": "stream",
          "name": "stderr",
          "text": [
            "32it [00:43,  1.36s/it]\n"
          ]
        },
        {
          "output_type": "stream",
          "name": "stdout",
          "text": [
            "Evaluating explainer: shapr_top5\n"
          ]
        },
        {
          "output_type": "stream",
          "name": "stderr",
          "text": [
            "32it [00:04,  6.98it/s]\n"
          ]
        },
        {
          "output_type": "stream",
          "name": "stdout",
          "text": [
            "Evaluating explainer: shapr_top10\n"
          ]
        },
        {
          "output_type": "stream",
          "name": "stderr",
          "text": [
            "32it [00:06,  5.13it/s]\n"
          ]
        },
        {
          "output_type": "stream",
          "name": "stdout",
          "text": [
            "Evaluating explainer: random\n"
          ]
        },
        {
          "output_type": "stream",
          "name": "stderr",
          "text": [
            "WARNING:shap:Using 128 background data samples could cause slower run times. Consider using shap.sample(data, K) or shap.kmeans(data, K) to summarize the background as K samples.\n"
          ]
        },
        {
          "output_type": "stream",
          "name": "stdout",
          "text": [
            "Evaluating explainer: shap\n"
          ]
        },
        {
          "output_type": "display_data",
          "data": {
            "text/plain": [
              "  0%|          | 0/32 [00:00<?, ?it/s]"
            ],
            "application/vnd.jupyter.widget-view+json": {
              "version_major": 2,
              "version_minor": 0,
              "model_id": "aa2b25c35c8d40d1bf9378782c8be0c4"
            }
          },
          "metadata": {}
        },
        {
          "output_type": "stream",
          "name": "stdout",
          "text": [
            "Evaluating explainer: shapr\n"
          ]
        },
        {
          "output_type": "stream",
          "name": "stderr",
          "text": [
            "32it [00:46,  1.44s/it]\n"
          ]
        },
        {
          "output_type": "stream",
          "name": "stdout",
          "text": [
            "Evaluating explainer: shapr_top5\n"
          ]
        },
        {
          "output_type": "stream",
          "name": "stderr",
          "text": [
            "32it [00:04,  6.94it/s]\n"
          ]
        },
        {
          "output_type": "stream",
          "name": "stdout",
          "text": [
            "Evaluating explainer: shapr_top10\n"
          ]
        },
        {
          "output_type": "stream",
          "name": "stderr",
          "text": [
            "32it [00:06,  5.20it/s]\n"
          ]
        },
        {
          "output_type": "stream",
          "name": "stdout",
          "text": [
            "Evaluating explainer: random\n"
          ]
        },
        {
          "output_type": "stream",
          "name": "stderr",
          "text": [
            "WARNING:shap:Using 128 background data samples could cause slower run times. Consider using shap.sample(data, K) or shap.kmeans(data, K) to summarize the background as K samples.\n"
          ]
        },
        {
          "output_type": "stream",
          "name": "stdout",
          "text": [
            "Evaluating explainer: shap\n"
          ]
        },
        {
          "output_type": "display_data",
          "data": {
            "text/plain": [
              "  0%|          | 0/32 [00:00<?, ?it/s]"
            ],
            "application/vnd.jupyter.widget-view+json": {
              "version_major": 2,
              "version_minor": 0,
              "model_id": "94cbc0e6083b4887b07f13e097a02c74"
            }
          },
          "metadata": {}
        },
        {
          "output_type": "stream",
          "name": "stdout",
          "text": [
            "Evaluating explainer: shapr\n"
          ]
        },
        {
          "output_type": "stream",
          "name": "stderr",
          "text": [
            "32it [00:43,  1.35s/it]\n"
          ]
        },
        {
          "output_type": "stream",
          "name": "stdout",
          "text": [
            "Evaluating explainer: shapr_top5\n"
          ]
        },
        {
          "output_type": "stream",
          "name": "stderr",
          "text": [
            "32it [00:04,  6.97it/s]\n"
          ]
        },
        {
          "output_type": "stream",
          "name": "stdout",
          "text": [
            "Evaluating explainer: shapr_top10\n"
          ]
        },
        {
          "output_type": "stream",
          "name": "stderr",
          "text": [
            "32it [00:06,  5.13it/s]\n"
          ]
        },
        {
          "output_type": "stream",
          "name": "stdout",
          "text": [
            "random Results:  {'RC:': 0.05223214285714285, 'FA:': 0.45833333333333337, 'RA:': 0.15208333333333332, 'SA:': 0.2333333333333333, 'SRA:': 0.07499999999999998, 'PGU:': 0.04975014, 'PGI:': 0.05772712}\n",
            "shap Results:  {'RC:': 0.6200892857142857, 'FA:': 0.5541666666666666, 'RA:': 0.3333333333333333, 'SA:': 0.3, 'SRA:': 0.18541666666666665, 'PGU:': 0.054703783, 'PGI:': 0.0582888}\n",
            "shapr Results:  {'RC:': 0.5234375, 'FA:': 0.50625, 'RA:': 0.2666666666666667, 'SA:': 0.3, 'SRA:': 0.18124999999999997, 'PGU:': 0.055929255, 'PGI:': 0.05762993}\n",
            "shapr_top5 Results:  {'RC:': 0.5254464285714285, 'FA:': 0.51875, 'RA:': 0.25416666666666665, 'SA:': 0.3083333333333333, 'SRA:': 0.1833333333333333, 'PGU:': 0.054112118, 'PGI:': 0.058240663}\n",
            "shapr_top10 Results:  {'RC:': 0.5462053571428571, 'FA:': 0.5333333333333333, 'RA:': 0.3, 'SA:': 0.2895833333333333, 'SRA:': 0.18541666666666665, 'PGU:': 0.054317106, 'PGI:': 0.057669174}\n"
          ]
        }
      ]
    }
  ],
  "metadata": {
    "kernelspec": {
      "display_name": "Python 3",
      "language": "python",
      "name": "python3"
    },
    "language_info": {
      "codemirror_mode": {
        "name": "ipython",
        "version": 3
      },
      "file_extension": ".py",
      "mimetype": "text/x-python",
      "name": "python",
      "nbconvert_exporter": "python",
      "pygments_lexer": "ipython3",
      "version": "3.6.8"
    },
    "colab": {
      "provenance": []
    },
    "widgets": {
      "application/vnd.jupyter.widget-state+json": {
        "4313d43ad81b43b4a177505745231193": {
          "model_module": "@jupyter-widgets/controls",
          "model_name": "HBoxModel",
          "model_module_version": "1.5.0",
          "state": {
            "_dom_classes": [],
            "_model_module": "@jupyter-widgets/controls",
            "_model_module_version": "1.5.0",
            "_model_name": "HBoxModel",
            "_view_count": null,
            "_view_module": "@jupyter-widgets/controls",
            "_view_module_version": "1.5.0",
            "_view_name": "HBoxView",
            "box_style": "",
            "children": [
              "IPY_MODEL_8111763aebd847d586fa032df34a9f9a",
              "IPY_MODEL_b54e520636484eeba0a1f1e05e61a724",
              "IPY_MODEL_895c9085f53345eb9aecf5e82123f37a"
            ],
            "layout": "IPY_MODEL_61db6e87bd774dc0bfb542423f5a8bc3"
          }
        },
        "8111763aebd847d586fa032df34a9f9a": {
          "model_module": "@jupyter-widgets/controls",
          "model_name": "HTMLModel",
          "model_module_version": "1.5.0",
          "state": {
            "_dom_classes": [],
            "_model_module": "@jupyter-widgets/controls",
            "_model_module_version": "1.5.0",
            "_model_name": "HTMLModel",
            "_view_count": null,
            "_view_module": "@jupyter-widgets/controls",
            "_view_module_version": "1.5.0",
            "_view_name": "HTMLView",
            "description": "",
            "description_tooltip": null,
            "layout": "IPY_MODEL_d0d290ff101a45e99365776496591b0d",
            "placeholder": "​",
            "style": "IPY_MODEL_c85189267cc6420183586f33ebfe7a49",
            "value": "100%"
          }
        },
        "b54e520636484eeba0a1f1e05e61a724": {
          "model_module": "@jupyter-widgets/controls",
          "model_name": "FloatProgressModel",
          "model_module_version": "1.5.0",
          "state": {
            "_dom_classes": [],
            "_model_module": "@jupyter-widgets/controls",
            "_model_module_version": "1.5.0",
            "_model_name": "FloatProgressModel",
            "_view_count": null,
            "_view_module": "@jupyter-widgets/controls",
            "_view_module_version": "1.5.0",
            "_view_name": "ProgressView",
            "bar_style": "success",
            "description": "",
            "description_tooltip": null,
            "layout": "IPY_MODEL_ad8d4fcabb3a4689ab5790aa474dc6b0",
            "max": 32,
            "min": 0,
            "orientation": "horizontal",
            "style": "IPY_MODEL_3a9077c455904f3f94b67663c50a4259",
            "value": 32
          }
        },
        "895c9085f53345eb9aecf5e82123f37a": {
          "model_module": "@jupyter-widgets/controls",
          "model_name": "HTMLModel",
          "model_module_version": "1.5.0",
          "state": {
            "_dom_classes": [],
            "_model_module": "@jupyter-widgets/controls",
            "_model_module_version": "1.5.0",
            "_model_name": "HTMLModel",
            "_view_count": null,
            "_view_module": "@jupyter-widgets/controls",
            "_view_module_version": "1.5.0",
            "_view_name": "HTMLView",
            "description": "",
            "description_tooltip": null,
            "layout": "IPY_MODEL_188b77bbf56947db9a56ca85b5f23db0",
            "placeholder": "​",
            "style": "IPY_MODEL_f1cc0637581c48699c733bba9f601c91",
            "value": " 32/32 [00:04&lt;00:00,  7.06it/s]"
          }
        },
        "61db6e87bd774dc0bfb542423f5a8bc3": {
          "model_module": "@jupyter-widgets/base",
          "model_name": "LayoutModel",
          "model_module_version": "1.2.0",
          "state": {
            "_model_module": "@jupyter-widgets/base",
            "_model_module_version": "1.2.0",
            "_model_name": "LayoutModel",
            "_view_count": null,
            "_view_module": "@jupyter-widgets/base",
            "_view_module_version": "1.2.0",
            "_view_name": "LayoutView",
            "align_content": null,
            "align_items": null,
            "align_self": null,
            "border": null,
            "bottom": null,
            "display": null,
            "flex": null,
            "flex_flow": null,
            "grid_area": null,
            "grid_auto_columns": null,
            "grid_auto_flow": null,
            "grid_auto_rows": null,
            "grid_column": null,
            "grid_gap": null,
            "grid_row": null,
            "grid_template_areas": null,
            "grid_template_columns": null,
            "grid_template_rows": null,
            "height": null,
            "justify_content": null,
            "justify_items": null,
            "left": null,
            "margin": null,
            "max_height": null,
            "max_width": null,
            "min_height": null,
            "min_width": null,
            "object_fit": null,
            "object_position": null,
            "order": null,
            "overflow": null,
            "overflow_x": null,
            "overflow_y": null,
            "padding": null,
            "right": null,
            "top": null,
            "visibility": null,
            "width": null
          }
        },
        "d0d290ff101a45e99365776496591b0d": {
          "model_module": "@jupyter-widgets/base",
          "model_name": "LayoutModel",
          "model_module_version": "1.2.0",
          "state": {
            "_model_module": "@jupyter-widgets/base",
            "_model_module_version": "1.2.0",
            "_model_name": "LayoutModel",
            "_view_count": null,
            "_view_module": "@jupyter-widgets/base",
            "_view_module_version": "1.2.0",
            "_view_name": "LayoutView",
            "align_content": null,
            "align_items": null,
            "align_self": null,
            "border": null,
            "bottom": null,
            "display": null,
            "flex": null,
            "flex_flow": null,
            "grid_area": null,
            "grid_auto_columns": null,
            "grid_auto_flow": null,
            "grid_auto_rows": null,
            "grid_column": null,
            "grid_gap": null,
            "grid_row": null,
            "grid_template_areas": null,
            "grid_template_columns": null,
            "grid_template_rows": null,
            "height": null,
            "justify_content": null,
            "justify_items": null,
            "left": null,
            "margin": null,
            "max_height": null,
            "max_width": null,
            "min_height": null,
            "min_width": null,
            "object_fit": null,
            "object_position": null,
            "order": null,
            "overflow": null,
            "overflow_x": null,
            "overflow_y": null,
            "padding": null,
            "right": null,
            "top": null,
            "visibility": null,
            "width": null
          }
        },
        "c85189267cc6420183586f33ebfe7a49": {
          "model_module": "@jupyter-widgets/controls",
          "model_name": "DescriptionStyleModel",
          "model_module_version": "1.5.0",
          "state": {
            "_model_module": "@jupyter-widgets/controls",
            "_model_module_version": "1.5.0",
            "_model_name": "DescriptionStyleModel",
            "_view_count": null,
            "_view_module": "@jupyter-widgets/base",
            "_view_module_version": "1.2.0",
            "_view_name": "StyleView",
            "description_width": ""
          }
        },
        "ad8d4fcabb3a4689ab5790aa474dc6b0": {
          "model_module": "@jupyter-widgets/base",
          "model_name": "LayoutModel",
          "model_module_version": "1.2.0",
          "state": {
            "_model_module": "@jupyter-widgets/base",
            "_model_module_version": "1.2.0",
            "_model_name": "LayoutModel",
            "_view_count": null,
            "_view_module": "@jupyter-widgets/base",
            "_view_module_version": "1.2.0",
            "_view_name": "LayoutView",
            "align_content": null,
            "align_items": null,
            "align_self": null,
            "border": null,
            "bottom": null,
            "display": null,
            "flex": null,
            "flex_flow": null,
            "grid_area": null,
            "grid_auto_columns": null,
            "grid_auto_flow": null,
            "grid_auto_rows": null,
            "grid_column": null,
            "grid_gap": null,
            "grid_row": null,
            "grid_template_areas": null,
            "grid_template_columns": null,
            "grid_template_rows": null,
            "height": null,
            "justify_content": null,
            "justify_items": null,
            "left": null,
            "margin": null,
            "max_height": null,
            "max_width": null,
            "min_height": null,
            "min_width": null,
            "object_fit": null,
            "object_position": null,
            "order": null,
            "overflow": null,
            "overflow_x": null,
            "overflow_y": null,
            "padding": null,
            "right": null,
            "top": null,
            "visibility": null,
            "width": null
          }
        },
        "3a9077c455904f3f94b67663c50a4259": {
          "model_module": "@jupyter-widgets/controls",
          "model_name": "ProgressStyleModel",
          "model_module_version": "1.5.0",
          "state": {
            "_model_module": "@jupyter-widgets/controls",
            "_model_module_version": "1.5.0",
            "_model_name": "ProgressStyleModel",
            "_view_count": null,
            "_view_module": "@jupyter-widgets/base",
            "_view_module_version": "1.2.0",
            "_view_name": "StyleView",
            "bar_color": null,
            "description_width": ""
          }
        },
        "188b77bbf56947db9a56ca85b5f23db0": {
          "model_module": "@jupyter-widgets/base",
          "model_name": "LayoutModel",
          "model_module_version": "1.2.0",
          "state": {
            "_model_module": "@jupyter-widgets/base",
            "_model_module_version": "1.2.0",
            "_model_name": "LayoutModel",
            "_view_count": null,
            "_view_module": "@jupyter-widgets/base",
            "_view_module_version": "1.2.0",
            "_view_name": "LayoutView",
            "align_content": null,
            "align_items": null,
            "align_self": null,
            "border": null,
            "bottom": null,
            "display": null,
            "flex": null,
            "flex_flow": null,
            "grid_area": null,
            "grid_auto_columns": null,
            "grid_auto_flow": null,
            "grid_auto_rows": null,
            "grid_column": null,
            "grid_gap": null,
            "grid_row": null,
            "grid_template_areas": null,
            "grid_template_columns": null,
            "grid_template_rows": null,
            "height": null,
            "justify_content": null,
            "justify_items": null,
            "left": null,
            "margin": null,
            "max_height": null,
            "max_width": null,
            "min_height": null,
            "min_width": null,
            "object_fit": null,
            "object_position": null,
            "order": null,
            "overflow": null,
            "overflow_x": null,
            "overflow_y": null,
            "padding": null,
            "right": null,
            "top": null,
            "visibility": null,
            "width": null
          }
        },
        "f1cc0637581c48699c733bba9f601c91": {
          "model_module": "@jupyter-widgets/controls",
          "model_name": "DescriptionStyleModel",
          "model_module_version": "1.5.0",
          "state": {
            "_model_module": "@jupyter-widgets/controls",
            "_model_module_version": "1.5.0",
            "_model_name": "DescriptionStyleModel",
            "_view_count": null,
            "_view_module": "@jupyter-widgets/base",
            "_view_module_version": "1.2.0",
            "_view_name": "StyleView",
            "description_width": ""
          }
        },
        "6e11812105834b0ab0d94a7ed998d8b2": {
          "model_module": "@jupyter-widgets/controls",
          "model_name": "HBoxModel",
          "model_module_version": "1.5.0",
          "state": {
            "_dom_classes": [],
            "_model_module": "@jupyter-widgets/controls",
            "_model_module_version": "1.5.0",
            "_model_name": "HBoxModel",
            "_view_count": null,
            "_view_module": "@jupyter-widgets/controls",
            "_view_module_version": "1.5.0",
            "_view_name": "HBoxView",
            "box_style": "",
            "children": [
              "IPY_MODEL_b49b42d626694b8a9c25b08aa2c08c68",
              "IPY_MODEL_a8ad701e93e7497085ad793c36dc2aad",
              "IPY_MODEL_e7652d85c06d4ea1a27da2a8fe3e6c1b"
            ],
            "layout": "IPY_MODEL_b0aa4b6606ca4219ba7b78d77a7fcc59"
          }
        },
        "b49b42d626694b8a9c25b08aa2c08c68": {
          "model_module": "@jupyter-widgets/controls",
          "model_name": "HTMLModel",
          "model_module_version": "1.5.0",
          "state": {
            "_dom_classes": [],
            "_model_module": "@jupyter-widgets/controls",
            "_model_module_version": "1.5.0",
            "_model_name": "HTMLModel",
            "_view_count": null,
            "_view_module": "@jupyter-widgets/controls",
            "_view_module_version": "1.5.0",
            "_view_name": "HTMLView",
            "description": "",
            "description_tooltip": null,
            "layout": "IPY_MODEL_34945301ef78437fbaf08afdd3460590",
            "placeholder": "​",
            "style": "IPY_MODEL_574e33ad8c8f49d39459e785b2ca2249",
            "value": "100%"
          }
        },
        "a8ad701e93e7497085ad793c36dc2aad": {
          "model_module": "@jupyter-widgets/controls",
          "model_name": "FloatProgressModel",
          "model_module_version": "1.5.0",
          "state": {
            "_dom_classes": [],
            "_model_module": "@jupyter-widgets/controls",
            "_model_module_version": "1.5.0",
            "_model_name": "FloatProgressModel",
            "_view_count": null,
            "_view_module": "@jupyter-widgets/controls",
            "_view_module_version": "1.5.0",
            "_view_name": "ProgressView",
            "bar_style": "success",
            "description": "",
            "description_tooltip": null,
            "layout": "IPY_MODEL_32038b58dccb49d4a413b27b7f230676",
            "max": 32,
            "min": 0,
            "orientation": "horizontal",
            "style": "IPY_MODEL_5e2e40b88c45476186f0ea02b806f5bc",
            "value": 32
          }
        },
        "e7652d85c06d4ea1a27da2a8fe3e6c1b": {
          "model_module": "@jupyter-widgets/controls",
          "model_name": "HTMLModel",
          "model_module_version": "1.5.0",
          "state": {
            "_dom_classes": [],
            "_model_module": "@jupyter-widgets/controls",
            "_model_module_version": "1.5.0",
            "_model_name": "HTMLModel",
            "_view_count": null,
            "_view_module": "@jupyter-widgets/controls",
            "_view_module_version": "1.5.0",
            "_view_name": "HTMLView",
            "description": "",
            "description_tooltip": null,
            "layout": "IPY_MODEL_3c9d60df768140bebe68291b27c1f390",
            "placeholder": "​",
            "style": "IPY_MODEL_03cea1651b29469088b3eff5bf7030f0",
            "value": " 32/32 [00:05&lt;00:00,  6.84it/s]"
          }
        },
        "b0aa4b6606ca4219ba7b78d77a7fcc59": {
          "model_module": "@jupyter-widgets/base",
          "model_name": "LayoutModel",
          "model_module_version": "1.2.0",
          "state": {
            "_model_module": "@jupyter-widgets/base",
            "_model_module_version": "1.2.0",
            "_model_name": "LayoutModel",
            "_view_count": null,
            "_view_module": "@jupyter-widgets/base",
            "_view_module_version": "1.2.0",
            "_view_name": "LayoutView",
            "align_content": null,
            "align_items": null,
            "align_self": null,
            "border": null,
            "bottom": null,
            "display": null,
            "flex": null,
            "flex_flow": null,
            "grid_area": null,
            "grid_auto_columns": null,
            "grid_auto_flow": null,
            "grid_auto_rows": null,
            "grid_column": null,
            "grid_gap": null,
            "grid_row": null,
            "grid_template_areas": null,
            "grid_template_columns": null,
            "grid_template_rows": null,
            "height": null,
            "justify_content": null,
            "justify_items": null,
            "left": null,
            "margin": null,
            "max_height": null,
            "max_width": null,
            "min_height": null,
            "min_width": null,
            "object_fit": null,
            "object_position": null,
            "order": null,
            "overflow": null,
            "overflow_x": null,
            "overflow_y": null,
            "padding": null,
            "right": null,
            "top": null,
            "visibility": null,
            "width": null
          }
        },
        "34945301ef78437fbaf08afdd3460590": {
          "model_module": "@jupyter-widgets/base",
          "model_name": "LayoutModel",
          "model_module_version": "1.2.0",
          "state": {
            "_model_module": "@jupyter-widgets/base",
            "_model_module_version": "1.2.0",
            "_model_name": "LayoutModel",
            "_view_count": null,
            "_view_module": "@jupyter-widgets/base",
            "_view_module_version": "1.2.0",
            "_view_name": "LayoutView",
            "align_content": null,
            "align_items": null,
            "align_self": null,
            "border": null,
            "bottom": null,
            "display": null,
            "flex": null,
            "flex_flow": null,
            "grid_area": null,
            "grid_auto_columns": null,
            "grid_auto_flow": null,
            "grid_auto_rows": null,
            "grid_column": null,
            "grid_gap": null,
            "grid_row": null,
            "grid_template_areas": null,
            "grid_template_columns": null,
            "grid_template_rows": null,
            "height": null,
            "justify_content": null,
            "justify_items": null,
            "left": null,
            "margin": null,
            "max_height": null,
            "max_width": null,
            "min_height": null,
            "min_width": null,
            "object_fit": null,
            "object_position": null,
            "order": null,
            "overflow": null,
            "overflow_x": null,
            "overflow_y": null,
            "padding": null,
            "right": null,
            "top": null,
            "visibility": null,
            "width": null
          }
        },
        "574e33ad8c8f49d39459e785b2ca2249": {
          "model_module": "@jupyter-widgets/controls",
          "model_name": "DescriptionStyleModel",
          "model_module_version": "1.5.0",
          "state": {
            "_model_module": "@jupyter-widgets/controls",
            "_model_module_version": "1.5.0",
            "_model_name": "DescriptionStyleModel",
            "_view_count": null,
            "_view_module": "@jupyter-widgets/base",
            "_view_module_version": "1.2.0",
            "_view_name": "StyleView",
            "description_width": ""
          }
        },
        "32038b58dccb49d4a413b27b7f230676": {
          "model_module": "@jupyter-widgets/base",
          "model_name": "LayoutModel",
          "model_module_version": "1.2.0",
          "state": {
            "_model_module": "@jupyter-widgets/base",
            "_model_module_version": "1.2.0",
            "_model_name": "LayoutModel",
            "_view_count": null,
            "_view_module": "@jupyter-widgets/base",
            "_view_module_version": "1.2.0",
            "_view_name": "LayoutView",
            "align_content": null,
            "align_items": null,
            "align_self": null,
            "border": null,
            "bottom": null,
            "display": null,
            "flex": null,
            "flex_flow": null,
            "grid_area": null,
            "grid_auto_columns": null,
            "grid_auto_flow": null,
            "grid_auto_rows": null,
            "grid_column": null,
            "grid_gap": null,
            "grid_row": null,
            "grid_template_areas": null,
            "grid_template_columns": null,
            "grid_template_rows": null,
            "height": null,
            "justify_content": null,
            "justify_items": null,
            "left": null,
            "margin": null,
            "max_height": null,
            "max_width": null,
            "min_height": null,
            "min_width": null,
            "object_fit": null,
            "object_position": null,
            "order": null,
            "overflow": null,
            "overflow_x": null,
            "overflow_y": null,
            "padding": null,
            "right": null,
            "top": null,
            "visibility": null,
            "width": null
          }
        },
        "5e2e40b88c45476186f0ea02b806f5bc": {
          "model_module": "@jupyter-widgets/controls",
          "model_name": "ProgressStyleModel",
          "model_module_version": "1.5.0",
          "state": {
            "_model_module": "@jupyter-widgets/controls",
            "_model_module_version": "1.5.0",
            "_model_name": "ProgressStyleModel",
            "_view_count": null,
            "_view_module": "@jupyter-widgets/base",
            "_view_module_version": "1.2.0",
            "_view_name": "StyleView",
            "bar_color": null,
            "description_width": ""
          }
        },
        "3c9d60df768140bebe68291b27c1f390": {
          "model_module": "@jupyter-widgets/base",
          "model_name": "LayoutModel",
          "model_module_version": "1.2.0",
          "state": {
            "_model_module": "@jupyter-widgets/base",
            "_model_module_version": "1.2.0",
            "_model_name": "LayoutModel",
            "_view_count": null,
            "_view_module": "@jupyter-widgets/base",
            "_view_module_version": "1.2.0",
            "_view_name": "LayoutView",
            "align_content": null,
            "align_items": null,
            "align_self": null,
            "border": null,
            "bottom": null,
            "display": null,
            "flex": null,
            "flex_flow": null,
            "grid_area": null,
            "grid_auto_columns": null,
            "grid_auto_flow": null,
            "grid_auto_rows": null,
            "grid_column": null,
            "grid_gap": null,
            "grid_row": null,
            "grid_template_areas": null,
            "grid_template_columns": null,
            "grid_template_rows": null,
            "height": null,
            "justify_content": null,
            "justify_items": null,
            "left": null,
            "margin": null,
            "max_height": null,
            "max_width": null,
            "min_height": null,
            "min_width": null,
            "object_fit": null,
            "object_position": null,
            "order": null,
            "overflow": null,
            "overflow_x": null,
            "overflow_y": null,
            "padding": null,
            "right": null,
            "top": null,
            "visibility": null,
            "width": null
          }
        },
        "03cea1651b29469088b3eff5bf7030f0": {
          "model_module": "@jupyter-widgets/controls",
          "model_name": "DescriptionStyleModel",
          "model_module_version": "1.5.0",
          "state": {
            "_model_module": "@jupyter-widgets/controls",
            "_model_module_version": "1.5.0",
            "_model_name": "DescriptionStyleModel",
            "_view_count": null,
            "_view_module": "@jupyter-widgets/base",
            "_view_module_version": "1.2.0",
            "_view_name": "StyleView",
            "description_width": ""
          }
        },
        "22fa7a0847e844aa99208e82e0c21a6b": {
          "model_module": "@jupyter-widgets/controls",
          "model_name": "HBoxModel",
          "model_module_version": "1.5.0",
          "state": {
            "_dom_classes": [],
            "_model_module": "@jupyter-widgets/controls",
            "_model_module_version": "1.5.0",
            "_model_name": "HBoxModel",
            "_view_count": null,
            "_view_module": "@jupyter-widgets/controls",
            "_view_module_version": "1.5.0",
            "_view_name": "HBoxView",
            "box_style": "",
            "children": [
              "IPY_MODEL_4c2f23c0e75c46c2942a8640d0bc9a7b",
              "IPY_MODEL_dbb1294be836404ab8073b7ad590a0b8",
              "IPY_MODEL_543c3ed0d9244ec8b3ad5a6a163b29c0"
            ],
            "layout": "IPY_MODEL_33011061dde64774aa85c33a608e2ce5"
          }
        },
        "4c2f23c0e75c46c2942a8640d0bc9a7b": {
          "model_module": "@jupyter-widgets/controls",
          "model_name": "HTMLModel",
          "model_module_version": "1.5.0",
          "state": {
            "_dom_classes": [],
            "_model_module": "@jupyter-widgets/controls",
            "_model_module_version": "1.5.0",
            "_model_name": "HTMLModel",
            "_view_count": null,
            "_view_module": "@jupyter-widgets/controls",
            "_view_module_version": "1.5.0",
            "_view_name": "HTMLView",
            "description": "",
            "description_tooltip": null,
            "layout": "IPY_MODEL_6f78066828064e39996ec2c4d64ed38a",
            "placeholder": "​",
            "style": "IPY_MODEL_037ea2cde2aa4812ba2eaa793c091908",
            "value": "100%"
          }
        },
        "dbb1294be836404ab8073b7ad590a0b8": {
          "model_module": "@jupyter-widgets/controls",
          "model_name": "FloatProgressModel",
          "model_module_version": "1.5.0",
          "state": {
            "_dom_classes": [],
            "_model_module": "@jupyter-widgets/controls",
            "_model_module_version": "1.5.0",
            "_model_name": "FloatProgressModel",
            "_view_count": null,
            "_view_module": "@jupyter-widgets/controls",
            "_view_module_version": "1.5.0",
            "_view_name": "ProgressView",
            "bar_style": "success",
            "description": "",
            "description_tooltip": null,
            "layout": "IPY_MODEL_46e06842d1004eb49918806446da029a",
            "max": 32,
            "min": 0,
            "orientation": "horizontal",
            "style": "IPY_MODEL_41b71eeece1241799cd8c5375fb48776",
            "value": 32
          }
        },
        "543c3ed0d9244ec8b3ad5a6a163b29c0": {
          "model_module": "@jupyter-widgets/controls",
          "model_name": "HTMLModel",
          "model_module_version": "1.5.0",
          "state": {
            "_dom_classes": [],
            "_model_module": "@jupyter-widgets/controls",
            "_model_module_version": "1.5.0",
            "_model_name": "HTMLModel",
            "_view_count": null,
            "_view_module": "@jupyter-widgets/controls",
            "_view_module_version": "1.5.0",
            "_view_name": "HTMLView",
            "description": "",
            "description_tooltip": null,
            "layout": "IPY_MODEL_08467a78192a49a29e4be1d8ef95311e",
            "placeholder": "​",
            "style": "IPY_MODEL_0bc5f94658e047c3809155a0cb4a2e51",
            "value": " 32/32 [00:04&lt;00:00,  6.97it/s]"
          }
        },
        "33011061dde64774aa85c33a608e2ce5": {
          "model_module": "@jupyter-widgets/base",
          "model_name": "LayoutModel",
          "model_module_version": "1.2.0",
          "state": {
            "_model_module": "@jupyter-widgets/base",
            "_model_module_version": "1.2.0",
            "_model_name": "LayoutModel",
            "_view_count": null,
            "_view_module": "@jupyter-widgets/base",
            "_view_module_version": "1.2.0",
            "_view_name": "LayoutView",
            "align_content": null,
            "align_items": null,
            "align_self": null,
            "border": null,
            "bottom": null,
            "display": null,
            "flex": null,
            "flex_flow": null,
            "grid_area": null,
            "grid_auto_columns": null,
            "grid_auto_flow": null,
            "grid_auto_rows": null,
            "grid_column": null,
            "grid_gap": null,
            "grid_row": null,
            "grid_template_areas": null,
            "grid_template_columns": null,
            "grid_template_rows": null,
            "height": null,
            "justify_content": null,
            "justify_items": null,
            "left": null,
            "margin": null,
            "max_height": null,
            "max_width": null,
            "min_height": null,
            "min_width": null,
            "object_fit": null,
            "object_position": null,
            "order": null,
            "overflow": null,
            "overflow_x": null,
            "overflow_y": null,
            "padding": null,
            "right": null,
            "top": null,
            "visibility": null,
            "width": null
          }
        },
        "6f78066828064e39996ec2c4d64ed38a": {
          "model_module": "@jupyter-widgets/base",
          "model_name": "LayoutModel",
          "model_module_version": "1.2.0",
          "state": {
            "_model_module": "@jupyter-widgets/base",
            "_model_module_version": "1.2.0",
            "_model_name": "LayoutModel",
            "_view_count": null,
            "_view_module": "@jupyter-widgets/base",
            "_view_module_version": "1.2.0",
            "_view_name": "LayoutView",
            "align_content": null,
            "align_items": null,
            "align_self": null,
            "border": null,
            "bottom": null,
            "display": null,
            "flex": null,
            "flex_flow": null,
            "grid_area": null,
            "grid_auto_columns": null,
            "grid_auto_flow": null,
            "grid_auto_rows": null,
            "grid_column": null,
            "grid_gap": null,
            "grid_row": null,
            "grid_template_areas": null,
            "grid_template_columns": null,
            "grid_template_rows": null,
            "height": null,
            "justify_content": null,
            "justify_items": null,
            "left": null,
            "margin": null,
            "max_height": null,
            "max_width": null,
            "min_height": null,
            "min_width": null,
            "object_fit": null,
            "object_position": null,
            "order": null,
            "overflow": null,
            "overflow_x": null,
            "overflow_y": null,
            "padding": null,
            "right": null,
            "top": null,
            "visibility": null,
            "width": null
          }
        },
        "037ea2cde2aa4812ba2eaa793c091908": {
          "model_module": "@jupyter-widgets/controls",
          "model_name": "DescriptionStyleModel",
          "model_module_version": "1.5.0",
          "state": {
            "_model_module": "@jupyter-widgets/controls",
            "_model_module_version": "1.5.0",
            "_model_name": "DescriptionStyleModel",
            "_view_count": null,
            "_view_module": "@jupyter-widgets/base",
            "_view_module_version": "1.2.0",
            "_view_name": "StyleView",
            "description_width": ""
          }
        },
        "46e06842d1004eb49918806446da029a": {
          "model_module": "@jupyter-widgets/base",
          "model_name": "LayoutModel",
          "model_module_version": "1.2.0",
          "state": {
            "_model_module": "@jupyter-widgets/base",
            "_model_module_version": "1.2.0",
            "_model_name": "LayoutModel",
            "_view_count": null,
            "_view_module": "@jupyter-widgets/base",
            "_view_module_version": "1.2.0",
            "_view_name": "LayoutView",
            "align_content": null,
            "align_items": null,
            "align_self": null,
            "border": null,
            "bottom": null,
            "display": null,
            "flex": null,
            "flex_flow": null,
            "grid_area": null,
            "grid_auto_columns": null,
            "grid_auto_flow": null,
            "grid_auto_rows": null,
            "grid_column": null,
            "grid_gap": null,
            "grid_row": null,
            "grid_template_areas": null,
            "grid_template_columns": null,
            "grid_template_rows": null,
            "height": null,
            "justify_content": null,
            "justify_items": null,
            "left": null,
            "margin": null,
            "max_height": null,
            "max_width": null,
            "min_height": null,
            "min_width": null,
            "object_fit": null,
            "object_position": null,
            "order": null,
            "overflow": null,
            "overflow_x": null,
            "overflow_y": null,
            "padding": null,
            "right": null,
            "top": null,
            "visibility": null,
            "width": null
          }
        },
        "41b71eeece1241799cd8c5375fb48776": {
          "model_module": "@jupyter-widgets/controls",
          "model_name": "ProgressStyleModel",
          "model_module_version": "1.5.0",
          "state": {
            "_model_module": "@jupyter-widgets/controls",
            "_model_module_version": "1.5.0",
            "_model_name": "ProgressStyleModel",
            "_view_count": null,
            "_view_module": "@jupyter-widgets/base",
            "_view_module_version": "1.2.0",
            "_view_name": "StyleView",
            "bar_color": null,
            "description_width": ""
          }
        },
        "08467a78192a49a29e4be1d8ef95311e": {
          "model_module": "@jupyter-widgets/base",
          "model_name": "LayoutModel",
          "model_module_version": "1.2.0",
          "state": {
            "_model_module": "@jupyter-widgets/base",
            "_model_module_version": "1.2.0",
            "_model_name": "LayoutModel",
            "_view_count": null,
            "_view_module": "@jupyter-widgets/base",
            "_view_module_version": "1.2.0",
            "_view_name": "LayoutView",
            "align_content": null,
            "align_items": null,
            "align_self": null,
            "border": null,
            "bottom": null,
            "display": null,
            "flex": null,
            "flex_flow": null,
            "grid_area": null,
            "grid_auto_columns": null,
            "grid_auto_flow": null,
            "grid_auto_rows": null,
            "grid_column": null,
            "grid_gap": null,
            "grid_row": null,
            "grid_template_areas": null,
            "grid_template_columns": null,
            "grid_template_rows": null,
            "height": null,
            "justify_content": null,
            "justify_items": null,
            "left": null,
            "margin": null,
            "max_height": null,
            "max_width": null,
            "min_height": null,
            "min_width": null,
            "object_fit": null,
            "object_position": null,
            "order": null,
            "overflow": null,
            "overflow_x": null,
            "overflow_y": null,
            "padding": null,
            "right": null,
            "top": null,
            "visibility": null,
            "width": null
          }
        },
        "0bc5f94658e047c3809155a0cb4a2e51": {
          "model_module": "@jupyter-widgets/controls",
          "model_name": "DescriptionStyleModel",
          "model_module_version": "1.5.0",
          "state": {
            "_model_module": "@jupyter-widgets/controls",
            "_model_module_version": "1.5.0",
            "_model_name": "DescriptionStyleModel",
            "_view_count": null,
            "_view_module": "@jupyter-widgets/base",
            "_view_module_version": "1.2.0",
            "_view_name": "StyleView",
            "description_width": ""
          }
        },
        "aa2b25c35c8d40d1bf9378782c8be0c4": {
          "model_module": "@jupyter-widgets/controls",
          "model_name": "HBoxModel",
          "model_module_version": "1.5.0",
          "state": {
            "_dom_classes": [],
            "_model_module": "@jupyter-widgets/controls",
            "_model_module_version": "1.5.0",
            "_model_name": "HBoxModel",
            "_view_count": null,
            "_view_module": "@jupyter-widgets/controls",
            "_view_module_version": "1.5.0",
            "_view_name": "HBoxView",
            "box_style": "",
            "children": [
              "IPY_MODEL_6c7774d52d364c958be6dff7a5e24efe",
              "IPY_MODEL_4d728bba3f094b1b851f1b8883cf8f47",
              "IPY_MODEL_ff10272c96a246538d6485b7fe3f983a"
            ],
            "layout": "IPY_MODEL_ce728b84f4aa4c7e8bf65a0d3aaac467"
          }
        },
        "6c7774d52d364c958be6dff7a5e24efe": {
          "model_module": "@jupyter-widgets/controls",
          "model_name": "HTMLModel",
          "model_module_version": "1.5.0",
          "state": {
            "_dom_classes": [],
            "_model_module": "@jupyter-widgets/controls",
            "_model_module_version": "1.5.0",
            "_model_name": "HTMLModel",
            "_view_count": null,
            "_view_module": "@jupyter-widgets/controls",
            "_view_module_version": "1.5.0",
            "_view_name": "HTMLView",
            "description": "",
            "description_tooltip": null,
            "layout": "IPY_MODEL_cb7024cc187344a1968ae7d6b2074869",
            "placeholder": "​",
            "style": "IPY_MODEL_9303c769784d41d99eb9f61edca00e36",
            "value": "100%"
          }
        },
        "4d728bba3f094b1b851f1b8883cf8f47": {
          "model_module": "@jupyter-widgets/controls",
          "model_name": "FloatProgressModel",
          "model_module_version": "1.5.0",
          "state": {
            "_dom_classes": [],
            "_model_module": "@jupyter-widgets/controls",
            "_model_module_version": "1.5.0",
            "_model_name": "FloatProgressModel",
            "_view_count": null,
            "_view_module": "@jupyter-widgets/controls",
            "_view_module_version": "1.5.0",
            "_view_name": "ProgressView",
            "bar_style": "success",
            "description": "",
            "description_tooltip": null,
            "layout": "IPY_MODEL_757448f73bff4cdc92203dfb377ad2be",
            "max": 32,
            "min": 0,
            "orientation": "horizontal",
            "style": "IPY_MODEL_e12b8a0be76441c1bbf715cbb11f678d",
            "value": 32
          }
        },
        "ff10272c96a246538d6485b7fe3f983a": {
          "model_module": "@jupyter-widgets/controls",
          "model_name": "HTMLModel",
          "model_module_version": "1.5.0",
          "state": {
            "_dom_classes": [],
            "_model_module": "@jupyter-widgets/controls",
            "_model_module_version": "1.5.0",
            "_model_name": "HTMLModel",
            "_view_count": null,
            "_view_module": "@jupyter-widgets/controls",
            "_view_module_version": "1.5.0",
            "_view_name": "HTMLView",
            "description": "",
            "description_tooltip": null,
            "layout": "IPY_MODEL_d8badba4f4be4b5cb5a2b717208db300",
            "placeholder": "​",
            "style": "IPY_MODEL_288e56a2b9b64e1eabdb7bbf8ff226be",
            "value": " 32/32 [00:04&lt;00:00,  7.06it/s]"
          }
        },
        "ce728b84f4aa4c7e8bf65a0d3aaac467": {
          "model_module": "@jupyter-widgets/base",
          "model_name": "LayoutModel",
          "model_module_version": "1.2.0",
          "state": {
            "_model_module": "@jupyter-widgets/base",
            "_model_module_version": "1.2.0",
            "_model_name": "LayoutModel",
            "_view_count": null,
            "_view_module": "@jupyter-widgets/base",
            "_view_module_version": "1.2.0",
            "_view_name": "LayoutView",
            "align_content": null,
            "align_items": null,
            "align_self": null,
            "border": null,
            "bottom": null,
            "display": null,
            "flex": null,
            "flex_flow": null,
            "grid_area": null,
            "grid_auto_columns": null,
            "grid_auto_flow": null,
            "grid_auto_rows": null,
            "grid_column": null,
            "grid_gap": null,
            "grid_row": null,
            "grid_template_areas": null,
            "grid_template_columns": null,
            "grid_template_rows": null,
            "height": null,
            "justify_content": null,
            "justify_items": null,
            "left": null,
            "margin": null,
            "max_height": null,
            "max_width": null,
            "min_height": null,
            "min_width": null,
            "object_fit": null,
            "object_position": null,
            "order": null,
            "overflow": null,
            "overflow_x": null,
            "overflow_y": null,
            "padding": null,
            "right": null,
            "top": null,
            "visibility": null,
            "width": null
          }
        },
        "cb7024cc187344a1968ae7d6b2074869": {
          "model_module": "@jupyter-widgets/base",
          "model_name": "LayoutModel",
          "model_module_version": "1.2.0",
          "state": {
            "_model_module": "@jupyter-widgets/base",
            "_model_module_version": "1.2.0",
            "_model_name": "LayoutModel",
            "_view_count": null,
            "_view_module": "@jupyter-widgets/base",
            "_view_module_version": "1.2.0",
            "_view_name": "LayoutView",
            "align_content": null,
            "align_items": null,
            "align_self": null,
            "border": null,
            "bottom": null,
            "display": null,
            "flex": null,
            "flex_flow": null,
            "grid_area": null,
            "grid_auto_columns": null,
            "grid_auto_flow": null,
            "grid_auto_rows": null,
            "grid_column": null,
            "grid_gap": null,
            "grid_row": null,
            "grid_template_areas": null,
            "grid_template_columns": null,
            "grid_template_rows": null,
            "height": null,
            "justify_content": null,
            "justify_items": null,
            "left": null,
            "margin": null,
            "max_height": null,
            "max_width": null,
            "min_height": null,
            "min_width": null,
            "object_fit": null,
            "object_position": null,
            "order": null,
            "overflow": null,
            "overflow_x": null,
            "overflow_y": null,
            "padding": null,
            "right": null,
            "top": null,
            "visibility": null,
            "width": null
          }
        },
        "9303c769784d41d99eb9f61edca00e36": {
          "model_module": "@jupyter-widgets/controls",
          "model_name": "DescriptionStyleModel",
          "model_module_version": "1.5.0",
          "state": {
            "_model_module": "@jupyter-widgets/controls",
            "_model_module_version": "1.5.0",
            "_model_name": "DescriptionStyleModel",
            "_view_count": null,
            "_view_module": "@jupyter-widgets/base",
            "_view_module_version": "1.2.0",
            "_view_name": "StyleView",
            "description_width": ""
          }
        },
        "757448f73bff4cdc92203dfb377ad2be": {
          "model_module": "@jupyter-widgets/base",
          "model_name": "LayoutModel",
          "model_module_version": "1.2.0",
          "state": {
            "_model_module": "@jupyter-widgets/base",
            "_model_module_version": "1.2.0",
            "_model_name": "LayoutModel",
            "_view_count": null,
            "_view_module": "@jupyter-widgets/base",
            "_view_module_version": "1.2.0",
            "_view_name": "LayoutView",
            "align_content": null,
            "align_items": null,
            "align_self": null,
            "border": null,
            "bottom": null,
            "display": null,
            "flex": null,
            "flex_flow": null,
            "grid_area": null,
            "grid_auto_columns": null,
            "grid_auto_flow": null,
            "grid_auto_rows": null,
            "grid_column": null,
            "grid_gap": null,
            "grid_row": null,
            "grid_template_areas": null,
            "grid_template_columns": null,
            "grid_template_rows": null,
            "height": null,
            "justify_content": null,
            "justify_items": null,
            "left": null,
            "margin": null,
            "max_height": null,
            "max_width": null,
            "min_height": null,
            "min_width": null,
            "object_fit": null,
            "object_position": null,
            "order": null,
            "overflow": null,
            "overflow_x": null,
            "overflow_y": null,
            "padding": null,
            "right": null,
            "top": null,
            "visibility": null,
            "width": null
          }
        },
        "e12b8a0be76441c1bbf715cbb11f678d": {
          "model_module": "@jupyter-widgets/controls",
          "model_name": "ProgressStyleModel",
          "model_module_version": "1.5.0",
          "state": {
            "_model_module": "@jupyter-widgets/controls",
            "_model_module_version": "1.5.0",
            "_model_name": "ProgressStyleModel",
            "_view_count": null,
            "_view_module": "@jupyter-widgets/base",
            "_view_module_version": "1.2.0",
            "_view_name": "StyleView",
            "bar_color": null,
            "description_width": ""
          }
        },
        "d8badba4f4be4b5cb5a2b717208db300": {
          "model_module": "@jupyter-widgets/base",
          "model_name": "LayoutModel",
          "model_module_version": "1.2.0",
          "state": {
            "_model_module": "@jupyter-widgets/base",
            "_model_module_version": "1.2.0",
            "_model_name": "LayoutModel",
            "_view_count": null,
            "_view_module": "@jupyter-widgets/base",
            "_view_module_version": "1.2.0",
            "_view_name": "LayoutView",
            "align_content": null,
            "align_items": null,
            "align_self": null,
            "border": null,
            "bottom": null,
            "display": null,
            "flex": null,
            "flex_flow": null,
            "grid_area": null,
            "grid_auto_columns": null,
            "grid_auto_flow": null,
            "grid_auto_rows": null,
            "grid_column": null,
            "grid_gap": null,
            "grid_row": null,
            "grid_template_areas": null,
            "grid_template_columns": null,
            "grid_template_rows": null,
            "height": null,
            "justify_content": null,
            "justify_items": null,
            "left": null,
            "margin": null,
            "max_height": null,
            "max_width": null,
            "min_height": null,
            "min_width": null,
            "object_fit": null,
            "object_position": null,
            "order": null,
            "overflow": null,
            "overflow_x": null,
            "overflow_y": null,
            "padding": null,
            "right": null,
            "top": null,
            "visibility": null,
            "width": null
          }
        },
        "288e56a2b9b64e1eabdb7bbf8ff226be": {
          "model_module": "@jupyter-widgets/controls",
          "model_name": "DescriptionStyleModel",
          "model_module_version": "1.5.0",
          "state": {
            "_model_module": "@jupyter-widgets/controls",
            "_model_module_version": "1.5.0",
            "_model_name": "DescriptionStyleModel",
            "_view_count": null,
            "_view_module": "@jupyter-widgets/base",
            "_view_module_version": "1.2.0",
            "_view_name": "StyleView",
            "description_width": ""
          }
        },
        "94cbc0e6083b4887b07f13e097a02c74": {
          "model_module": "@jupyter-widgets/controls",
          "model_name": "HBoxModel",
          "model_module_version": "1.5.0",
          "state": {
            "_dom_classes": [],
            "_model_module": "@jupyter-widgets/controls",
            "_model_module_version": "1.5.0",
            "_model_name": "HBoxModel",
            "_view_count": null,
            "_view_module": "@jupyter-widgets/controls",
            "_view_module_version": "1.5.0",
            "_view_name": "HBoxView",
            "box_style": "",
            "children": [
              "IPY_MODEL_1146f271e69f4ae5a1908f28a608e8fe",
              "IPY_MODEL_1351d1b1478443ed8c36460ea30e4773",
              "IPY_MODEL_673bef080e1e48cdbcfae40accf0a512"
            ],
            "layout": "IPY_MODEL_21b75206e867415ea573a87189702c62"
          }
        },
        "1146f271e69f4ae5a1908f28a608e8fe": {
          "model_module": "@jupyter-widgets/controls",
          "model_name": "HTMLModel",
          "model_module_version": "1.5.0",
          "state": {
            "_dom_classes": [],
            "_model_module": "@jupyter-widgets/controls",
            "_model_module_version": "1.5.0",
            "_model_name": "HTMLModel",
            "_view_count": null,
            "_view_module": "@jupyter-widgets/controls",
            "_view_module_version": "1.5.0",
            "_view_name": "HTMLView",
            "description": "",
            "description_tooltip": null,
            "layout": "IPY_MODEL_7d4de744990f4b0f91b3e5687cd32e56",
            "placeholder": "​",
            "style": "IPY_MODEL_dad4e8312c634dee91bd1e99f5360e05",
            "value": "100%"
          }
        },
        "1351d1b1478443ed8c36460ea30e4773": {
          "model_module": "@jupyter-widgets/controls",
          "model_name": "FloatProgressModel",
          "model_module_version": "1.5.0",
          "state": {
            "_dom_classes": [],
            "_model_module": "@jupyter-widgets/controls",
            "_model_module_version": "1.5.0",
            "_model_name": "FloatProgressModel",
            "_view_count": null,
            "_view_module": "@jupyter-widgets/controls",
            "_view_module_version": "1.5.0",
            "_view_name": "ProgressView",
            "bar_style": "success",
            "description": "",
            "description_tooltip": null,
            "layout": "IPY_MODEL_bf8cad6072114596850e5b21797b9da8",
            "max": 32,
            "min": 0,
            "orientation": "horizontal",
            "style": "IPY_MODEL_2275a8ae25bb419f94260fd7cc3d4bda",
            "value": 32
          }
        },
        "673bef080e1e48cdbcfae40accf0a512": {
          "model_module": "@jupyter-widgets/controls",
          "model_name": "HTMLModel",
          "model_module_version": "1.5.0",
          "state": {
            "_dom_classes": [],
            "_model_module": "@jupyter-widgets/controls",
            "_model_module_version": "1.5.0",
            "_model_name": "HTMLModel",
            "_view_count": null,
            "_view_module": "@jupyter-widgets/controls",
            "_view_module_version": "1.5.0",
            "_view_name": "HTMLView",
            "description": "",
            "description_tooltip": null,
            "layout": "IPY_MODEL_c58fc73c6413482695c0701f2c4654c5",
            "placeholder": "​",
            "style": "IPY_MODEL_bd8a59d62a3d4831adca40d1ac5e5c87",
            "value": " 32/32 [00:04&lt;00:00,  7.31it/s]"
          }
        },
        "21b75206e867415ea573a87189702c62": {
          "model_module": "@jupyter-widgets/base",
          "model_name": "LayoutModel",
          "model_module_version": "1.2.0",
          "state": {
            "_model_module": "@jupyter-widgets/base",
            "_model_module_version": "1.2.0",
            "_model_name": "LayoutModel",
            "_view_count": null,
            "_view_module": "@jupyter-widgets/base",
            "_view_module_version": "1.2.0",
            "_view_name": "LayoutView",
            "align_content": null,
            "align_items": null,
            "align_self": null,
            "border": null,
            "bottom": null,
            "display": null,
            "flex": null,
            "flex_flow": null,
            "grid_area": null,
            "grid_auto_columns": null,
            "grid_auto_flow": null,
            "grid_auto_rows": null,
            "grid_column": null,
            "grid_gap": null,
            "grid_row": null,
            "grid_template_areas": null,
            "grid_template_columns": null,
            "grid_template_rows": null,
            "height": null,
            "justify_content": null,
            "justify_items": null,
            "left": null,
            "margin": null,
            "max_height": null,
            "max_width": null,
            "min_height": null,
            "min_width": null,
            "object_fit": null,
            "object_position": null,
            "order": null,
            "overflow": null,
            "overflow_x": null,
            "overflow_y": null,
            "padding": null,
            "right": null,
            "top": null,
            "visibility": null,
            "width": null
          }
        },
        "7d4de744990f4b0f91b3e5687cd32e56": {
          "model_module": "@jupyter-widgets/base",
          "model_name": "LayoutModel",
          "model_module_version": "1.2.0",
          "state": {
            "_model_module": "@jupyter-widgets/base",
            "_model_module_version": "1.2.0",
            "_model_name": "LayoutModel",
            "_view_count": null,
            "_view_module": "@jupyter-widgets/base",
            "_view_module_version": "1.2.0",
            "_view_name": "LayoutView",
            "align_content": null,
            "align_items": null,
            "align_self": null,
            "border": null,
            "bottom": null,
            "display": null,
            "flex": null,
            "flex_flow": null,
            "grid_area": null,
            "grid_auto_columns": null,
            "grid_auto_flow": null,
            "grid_auto_rows": null,
            "grid_column": null,
            "grid_gap": null,
            "grid_row": null,
            "grid_template_areas": null,
            "grid_template_columns": null,
            "grid_template_rows": null,
            "height": null,
            "justify_content": null,
            "justify_items": null,
            "left": null,
            "margin": null,
            "max_height": null,
            "max_width": null,
            "min_height": null,
            "min_width": null,
            "object_fit": null,
            "object_position": null,
            "order": null,
            "overflow": null,
            "overflow_x": null,
            "overflow_y": null,
            "padding": null,
            "right": null,
            "top": null,
            "visibility": null,
            "width": null
          }
        },
        "dad4e8312c634dee91bd1e99f5360e05": {
          "model_module": "@jupyter-widgets/controls",
          "model_name": "DescriptionStyleModel",
          "model_module_version": "1.5.0",
          "state": {
            "_model_module": "@jupyter-widgets/controls",
            "_model_module_version": "1.5.0",
            "_model_name": "DescriptionStyleModel",
            "_view_count": null,
            "_view_module": "@jupyter-widgets/base",
            "_view_module_version": "1.2.0",
            "_view_name": "StyleView",
            "description_width": ""
          }
        },
        "bf8cad6072114596850e5b21797b9da8": {
          "model_module": "@jupyter-widgets/base",
          "model_name": "LayoutModel",
          "model_module_version": "1.2.0",
          "state": {
            "_model_module": "@jupyter-widgets/base",
            "_model_module_version": "1.2.0",
            "_model_name": "LayoutModel",
            "_view_count": null,
            "_view_module": "@jupyter-widgets/base",
            "_view_module_version": "1.2.0",
            "_view_name": "LayoutView",
            "align_content": null,
            "align_items": null,
            "align_self": null,
            "border": null,
            "bottom": null,
            "display": null,
            "flex": null,
            "flex_flow": null,
            "grid_area": null,
            "grid_auto_columns": null,
            "grid_auto_flow": null,
            "grid_auto_rows": null,
            "grid_column": null,
            "grid_gap": null,
            "grid_row": null,
            "grid_template_areas": null,
            "grid_template_columns": null,
            "grid_template_rows": null,
            "height": null,
            "justify_content": null,
            "justify_items": null,
            "left": null,
            "margin": null,
            "max_height": null,
            "max_width": null,
            "min_height": null,
            "min_width": null,
            "object_fit": null,
            "object_position": null,
            "order": null,
            "overflow": null,
            "overflow_x": null,
            "overflow_y": null,
            "padding": null,
            "right": null,
            "top": null,
            "visibility": null,
            "width": null
          }
        },
        "2275a8ae25bb419f94260fd7cc3d4bda": {
          "model_module": "@jupyter-widgets/controls",
          "model_name": "ProgressStyleModel",
          "model_module_version": "1.5.0",
          "state": {
            "_model_module": "@jupyter-widgets/controls",
            "_model_module_version": "1.5.0",
            "_model_name": "ProgressStyleModel",
            "_view_count": null,
            "_view_module": "@jupyter-widgets/base",
            "_view_module_version": "1.2.0",
            "_view_name": "StyleView",
            "bar_color": null,
            "description_width": ""
          }
        },
        "c58fc73c6413482695c0701f2c4654c5": {
          "model_module": "@jupyter-widgets/base",
          "model_name": "LayoutModel",
          "model_module_version": "1.2.0",
          "state": {
            "_model_module": "@jupyter-widgets/base",
            "_model_module_version": "1.2.0",
            "_model_name": "LayoutModel",
            "_view_count": null,
            "_view_module": "@jupyter-widgets/base",
            "_view_module_version": "1.2.0",
            "_view_name": "LayoutView",
            "align_content": null,
            "align_items": null,
            "align_self": null,
            "border": null,
            "bottom": null,
            "display": null,
            "flex": null,
            "flex_flow": null,
            "grid_area": null,
            "grid_auto_columns": null,
            "grid_auto_flow": null,
            "grid_auto_rows": null,
            "grid_column": null,
            "grid_gap": null,
            "grid_row": null,
            "grid_template_areas": null,
            "grid_template_columns": null,
            "grid_template_rows": null,
            "height": null,
            "justify_content": null,
            "justify_items": null,
            "left": null,
            "margin": null,
            "max_height": null,
            "max_width": null,
            "min_height": null,
            "min_width": null,
            "object_fit": null,
            "object_position": null,
            "order": null,
            "overflow": null,
            "overflow_x": null,
            "overflow_y": null,
            "padding": null,
            "right": null,
            "top": null,
            "visibility": null,
            "width": null
          }
        },
        "bd8a59d62a3d4831adca40d1ac5e5c87": {
          "model_module": "@jupyter-widgets/controls",
          "model_name": "DescriptionStyleModel",
          "model_module_version": "1.5.0",
          "state": {
            "_model_module": "@jupyter-widgets/controls",
            "_model_module_version": "1.5.0",
            "_model_name": "DescriptionStyleModel",
            "_view_count": null,
            "_view_module": "@jupyter-widgets/base",
            "_view_module_version": "1.2.0",
            "_view_name": "StyleView",
            "description_width": ""
          }
        }
      }
    }
  },
  "nbformat": 4,
  "nbformat_minor": 0
}
